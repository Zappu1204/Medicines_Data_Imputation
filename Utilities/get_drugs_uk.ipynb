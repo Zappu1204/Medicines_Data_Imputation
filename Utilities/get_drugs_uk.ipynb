{
 "cells": [
  {
   "cell_type": "markdown",
   "metadata": {},
   "source": [
    "# Get drug data from UK\n",
    "https://www.medicines.org.uk/emc/browse-ingredients/"
   ]
  },
  {
   "cell_type": "code",
   "execution_count": 1,
   "metadata": {},
   "outputs": [
    {
     "name": "stdout",
     "output_type": "stream",
     "text": [
      "Requirement already satisfied: lxml in c:\\users\\giap\\anaconda3\\envs\\medicines\\lib\\site-packages (5.2.1)\n",
      "Requirement already satisfied: bs4 in c:\\users\\giap\\anaconda3\\envs\\medicines\\lib\\site-packages (0.0.2)\n",
      "Requirement already satisfied: requests in c:\\users\\giap\\anaconda3\\envs\\medicines\\lib\\site-packages (2.31.0)\n",
      "Requirement already satisfied: beautifulsoup4 in c:\\users\\giap\\anaconda3\\envs\\medicines\\lib\\site-packages (from bs4) (4.12.3)\n",
      "Requirement already satisfied: charset-normalizer<4,>=2 in c:\\users\\giap\\anaconda3\\envs\\medicines\\lib\\site-packages (from requests) (3.3.2)\n",
      "Requirement already satisfied: idna<4,>=2.5 in c:\\users\\giap\\anaconda3\\envs\\medicines\\lib\\site-packages (from requests) (3.7)\n",
      "Requirement already satisfied: urllib3<3,>=1.21.1 in c:\\users\\giap\\anaconda3\\envs\\medicines\\lib\\site-packages (from requests) (2.2.1)\n",
      "Requirement already satisfied: certifi>=2017.4.17 in c:\\users\\giap\\anaconda3\\envs\\medicines\\lib\\site-packages (from requests) (2024.2.2)\n",
      "Requirement already satisfied: soupsieve>1.2 in c:\\users\\giap\\anaconda3\\envs\\medicines\\lib\\site-packages (from beautifulsoup4->bs4) (2.5)\n"
     ]
    }
   ],
   "source": [
    "! pip install lxml bs4 requests"
   ]
  },
  {
   "cell_type": "code",
   "execution_count": 10,
   "metadata": {},
   "outputs": [
    {
     "name": "stderr",
     "output_type": "stream",
     "text": [
      "c:\\Users\\GIAP\\anaconda3\\envs\\medicines\\lib\\site-packages\\bs4\\__init__.py:228: UserWarning: You provided Unicode markup but also provided a value for from_encoding. Your from_encoding will be ignored.\n",
      "  warnings.warn(\"You provided Unicode markup but also provided a value for from_encoding. Your from_encoding will be ignored.\")\n"
     ]
    },
    {
     "name": "stdout",
     "output_type": "stream",
     "text": [
      "{'https://www.medicines.org.uk/emc/product/10525/smpc', 'https://www.medicines.org.uk/emc/product/4445/smpc', 'https://www.medicines.org.uk/emc/product/9079/smpc'}\n"
     ]
    }
   ],
   "source": [
    "import json\n",
    "import os\n",
    "import lxml\n",
    "import requests\n",
    "from bs4 import BeautifulSoup\n",
    "\n",
    "global url\n",
    "url = \"https://www.medicines.org.uk/emc/browse-ingredients/\"\n",
    "\n",
    "thisdir = os.path.dirname(os.getcwd())\n",
    "datadir = os.path.join(thisdir, \"Data_Input\")\n",
    "if not os.path.exists(datadir):\n",
    "    os.makedirs(datadir)\n",
    "\n",
    "druguk = os.path.join(datadir, \"druguk.json\")\n",
    "\n",
    "# Get link ingredients\n",
    "global ingredientsUrl\n",
    "ingredientsUrl = []\n",
    "\n",
    "def get_ingredients(url):\n",
    "    response = requests.get(url)\n",
    "    soup = BeautifulSoup(response.text, from_encoding=\"utf-8\", features=\"lxml\")\n",
    "    ingredients = soup.find(\"div\", class_=\"browse-results\")\n",
    "    for ingredient in ingredients.find_all(\"a\"):\n",
    "        ingredientsUrl.append(\"https://www.medicines.org.uk\"+ingredient.get(\"href\"))\n",
    "    return ingredientsUrl\n",
    "\n",
    "# chars = [\"0-9\", \"A\", \"B\", \"C\", \"D\", \"E\", \"F\", \"G\", \"H\", \"I\", \"J\", \"K\", \"L\", \"M\", \"N\", \"O\", \"P\", \"Q\", \"R\", \"S\", \"T\", \"U\", \"V\", \"W\", \"X\", \"Y\", \"Z\"]\n",
    "chars = [\"0-9\",\"A\"]\n",
    "for char in chars:\n",
    "    url = url + char\n",
    "    get_ingredients(url)\n",
    "\n",
    "# Get data from ingredientsUrl\n",
    "global drugUrl\n",
    "drugUrl = set()\n",
    "def get_link_drug(url):\n",
    "    response = requests.get(url)\n",
    "    soup = BeautifulSoup(response.text, from_encoding=\"utf-8\", features=\"lxml\")\n",
    "    nameDrugs = soup.find(\"div\", class_=\"search-results-products-wrapper search-panel-results\")\n",
    "    names = nameDrugs.find_all(\"div\", recursive=True)\n",
    "    for name in names:\n",
    "        link = name.find(\"a\", class_=\"search-results-product-info-title-link emc-link\") \\\n",
    "            if name.find(\"a\", class_=\"search-results-product-info-title-link emc-link\") else \"\"\n",
    "        if link:\n",
    "            drugUrl.add(\"https://www.medicines.org.uk\"+link[\"href\"])\n",
    "    \n",
    "get_link_drug(\"https://www.medicines.org.uk/emc/ingredient/1388\")\n",
    "print(drugUrl)\n"
   ]
  },
  {
   "cell_type": "code",
   "execution_count": 15,
   "metadata": {},
   "outputs": [
    {
     "name": "stdout",
     "output_type": "stream",
     "text": [
      "https://www.medicines.org.uk/emc/browse-ingredients/AAA0-9\n"
     ]
    },
    {
     "name": "stderr",
     "output_type": "stream",
     "text": [
      "c:\\Users\\GIAP\\anaconda3\\envs\\medicines\\lib\\site-packages\\bs4\\__init__.py:228: UserWarning: You provided Unicode markup but also provided a value for from_encoding. Your from_encoding will be ignored.\n",
      "  warnings.warn(\"You provided Unicode markup but also provided a value for from_encoding. Your from_encoding will be ignored.\")\n"
     ]
    },
    {
     "name": "stdout",
     "output_type": "stream",
     "text": [
      "https://www.medicines.org.uk/emc/browse-ingredients/AAA0-9A\n",
      "[]\n"
     ]
    }
   ],
   "source": [
    "# Get link ingredients\n",
    "global ingredientsUrl\n",
    "ingredientsUrl = []\n",
    "\n",
    "def get_ingredients(url):\n",
    "    response = requests.get(url)\n",
    "    soup = BeautifulSoup(response.text, from_encoding=\"utf-8\", features=\"lxml\")\n",
    "    ingredients = soup.find(\"div\", class_=\"browse-results\")\n",
    "    for ingredient in ingredients.find_all(\"a\"):\n",
    "        ingredientsUrl.append(\"https://www.medicines.org.uk\"+ingredient.get(\"href\"))\n",
    "    return ingredientsUrl\n",
    "\n",
    "# chars = [\"0-9\", \"A\", \"B\", \"C\", \"D\", \"E\", \"F\", \"G\", \"H\", \"I\", \"J\", \"K\", \"L\", \"M\", \"N\", \"O\", \"P\", \"Q\", \"R\", \"S\", \"T\", \"U\", \"V\", \"W\", \"X\", \"Y\", \"Z\"]\n",
    "chars = [\"0-9\",\"A\"]\n",
    "for char in chars:\n",
    "    # url = f\"https://www.medicines.org.uk/emc/browse-ingredients/{char}\"\n",
    "    url = url + char\n",
    "    print(url)\n",
    "    get_ingredients(url)\n",
    "\n",
    "print(ingredientsUrl)\n"
   ]
  }
 ],
 "metadata": {
  "kernelspec": {
   "display_name": "medicines",
   "language": "python",
   "name": "python3"
  },
  "language_info": {
   "codemirror_mode": {
    "name": "ipython",
    "version": 3
   },
   "file_extension": ".py",
   "mimetype": "text/x-python",
   "name": "python",
   "nbconvert_exporter": "python",
   "pygments_lexer": "ipython3",
   "version": "3.8.0"
  }
 },
 "nbformat": 4,
 "nbformat_minor": 2
}
